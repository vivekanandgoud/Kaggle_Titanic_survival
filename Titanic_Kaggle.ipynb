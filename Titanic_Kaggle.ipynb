{
 "cells": [
  {
   "cell_type": "markdown",
   "metadata": {},
   "source": [
    "\n",
    "# Titanic_Kaggle_Survived"
   ]
  },
  {
   "cell_type": "code",
   "execution_count": 1,
   "metadata": {},
   "outputs": [],
   "source": [
    "%matplotlib inline\n",
    "import pandas as pd\n",
    "import numpy as np\n",
    "import matplotlib.pyplot as plt\n",
    "import seaborn as sns\n",
    "from sklearn.preprocessing import LabelEncoder\n",
    "import warnings\n",
    "warnings.filterwarnings('ignore')\n",
    "\n"
   ]
  },
  {
   "cell_type": "code",
   "execution_count": 2,
   "metadata": {},
   "outputs": [],
   "source": [
    "import xgboost"
   ]
  },
  {
   "cell_type": "code",
   "execution_count": 3,
   "metadata": {},
   "outputs": [
    {
     "data": {
      "text/html": [
       "<div>\n",
       "<style scoped>\n",
       "    .dataframe tbody tr th:only-of-type {\n",
       "        vertical-align: middle;\n",
       "    }\n",
       "\n",
       "    .dataframe tbody tr th {\n",
       "        vertical-align: top;\n",
       "    }\n",
       "\n",
       "    .dataframe thead th {\n",
       "        text-align: right;\n",
       "    }\n",
       "</style>\n",
       "<table border=\"1\" class=\"dataframe\">\n",
       "  <thead>\n",
       "    <tr style=\"text-align: right;\">\n",
       "      <th></th>\n",
       "      <th>Pclass</th>\n",
       "      <th>Sex</th>\n",
       "      <th>Age</th>\n",
       "      <th>Fare</th>\n",
       "      <th>Embarked</th>\n",
       "    </tr>\n",
       "  </thead>\n",
       "  <tbody>\n",
       "    <tr>\n",
       "      <th>0</th>\n",
       "      <td>3</td>\n",
       "      <td>1</td>\n",
       "      <td>22</td>\n",
       "      <td>7</td>\n",
       "      <td>2</td>\n",
       "    </tr>\n",
       "    <tr>\n",
       "      <th>1</th>\n",
       "      <td>1</td>\n",
       "      <td>2</td>\n",
       "      <td>38</td>\n",
       "      <td>71</td>\n",
       "      <td>0</td>\n",
       "    </tr>\n",
       "    <tr>\n",
       "      <th>2</th>\n",
       "      <td>3</td>\n",
       "      <td>2</td>\n",
       "      <td>26</td>\n",
       "      <td>7</td>\n",
       "      <td>2</td>\n",
       "    </tr>\n",
       "    <tr>\n",
       "      <th>3</th>\n",
       "      <td>1</td>\n",
       "      <td>2</td>\n",
       "      <td>35</td>\n",
       "      <td>53</td>\n",
       "      <td>2</td>\n",
       "    </tr>\n",
       "    <tr>\n",
       "      <th>4</th>\n",
       "      <td>3</td>\n",
       "      <td>1</td>\n",
       "      <td>35</td>\n",
       "      <td>8</td>\n",
       "      <td>2</td>\n",
       "    </tr>\n",
       "  </tbody>\n",
       "</table>\n",
       "</div>"
      ],
      "text/plain": [
       "   Pclass  Sex  Age  Fare  Embarked\n",
       "0       3    1   22     7         2\n",
       "1       1    2   38    71         0\n",
       "2       3    2   26     7         2\n",
       "3       1    2   35    53         2\n",
       "4       3    1   35     8         2"
      ]
     },
     "execution_count": 3,
     "metadata": {},
     "output_type": "execute_result"
    }
   ],
   "source": [
    "df = pd.read_csv( \"train.csv\" )\n",
    "df[\"Survived\"].value_counts()\n",
    "lb_make = LabelEncoder()\n",
    "df[\"Embarked\"] = lb_make.fit_transform(df[\"Embarked\"].astype('str'))\n",
    "y = df[\"Survived\"]\n",
    "X = df.drop(columns=[\"Survived\",\"Name\",\"Ticket\",\"Cabin\",\"Parch\",\"SibSp\",\"PassengerId\"])\n",
    "Sex_replace={'Sex':{'male':1,'female':2}}\n",
    "X.replace(Sex_replace,inplace=True)\n",
    "X.isna().sum().sum()\n",
    "X = X.fillna(X.mean())\n",
    "X.Fare = X.Fare.fillna(0).astype(int)\n",
    "X.Age = X.Age.fillna(0).astype(int)\n",
    "#X = pd.DataFrame(X)\n",
    "X.to_csv(\"train_clean_data_FR.csv\")\n",
    "X.head()"
   ]
  },
  {
   "cell_type": "code",
   "execution_count": 4,
   "metadata": {},
   "outputs": [
    {
     "data": {
      "text/plain": [
       "((891, 5), (891,))"
      ]
     },
     "execution_count": 4,
     "metadata": {},
     "output_type": "execute_result"
    }
   ],
   "source": [
    "X.shape , y.shape"
   ]
  },
  {
   "cell_type": "code",
   "execution_count": 5,
   "metadata": {},
   "outputs": [
    {
     "data": {
      "text/plain": [
       "0    0\n",
       "1    1\n",
       "2    1\n",
       "3    1\n",
       "4    0\n",
       "Name: Survived, dtype: int64"
      ]
     },
     "execution_count": 5,
     "metadata": {},
     "output_type": "execute_result"
    }
   ],
   "source": [
    "\n",
    "#X.dropna(0)\n",
    "#y.dropna(0)\n",
    "y.to_csv(\"train_clean_labels.csv\")\n",
    "y.head()"
   ]
  },
  {
   "cell_type": "code",
   "execution_count": 8,
   "metadata": {},
   "outputs": [
    {
     "data": {
      "text/html": [
       "<div>\n",
       "<style scoped>\n",
       "    .dataframe tbody tr th:only-of-type {\n",
       "        vertical-align: middle;\n",
       "    }\n",
       "\n",
       "    .dataframe tbody tr th {\n",
       "        vertical-align: top;\n",
       "    }\n",
       "\n",
       "    .dataframe thead th {\n",
       "        text-align: right;\n",
       "    }\n",
       "</style>\n",
       "<table border=\"1\" class=\"dataframe\">\n",
       "  <thead>\n",
       "    <tr style=\"text-align: right;\">\n",
       "      <th></th>\n",
       "      <th>Pclass</th>\n",
       "      <th>Sex</th>\n",
       "      <th>Age</th>\n",
       "      <th>Fare</th>\n",
       "      <th>Embarked</th>\n",
       "    </tr>\n",
       "  </thead>\n",
       "  <tbody>\n",
       "    <tr>\n",
       "      <th>0</th>\n",
       "      <td>3</td>\n",
       "      <td>1</td>\n",
       "      <td>22</td>\n",
       "      <td>7</td>\n",
       "      <td>2</td>\n",
       "    </tr>\n",
       "    <tr>\n",
       "      <th>1</th>\n",
       "      <td>1</td>\n",
       "      <td>2</td>\n",
       "      <td>38</td>\n",
       "      <td>71</td>\n",
       "      <td>0</td>\n",
       "    </tr>\n",
       "    <tr>\n",
       "      <th>2</th>\n",
       "      <td>3</td>\n",
       "      <td>2</td>\n",
       "      <td>26</td>\n",
       "      <td>7</td>\n",
       "      <td>2</td>\n",
       "    </tr>\n",
       "    <tr>\n",
       "      <th>3</th>\n",
       "      <td>1</td>\n",
       "      <td>2</td>\n",
       "      <td>35</td>\n",
       "      <td>53</td>\n",
       "      <td>2</td>\n",
       "    </tr>\n",
       "    <tr>\n",
       "      <th>4</th>\n",
       "      <td>3</td>\n",
       "      <td>1</td>\n",
       "      <td>35</td>\n",
       "      <td>8</td>\n",
       "      <td>2</td>\n",
       "    </tr>\n",
       "  </tbody>\n",
       "</table>\n",
       "</div>"
      ],
      "text/plain": [
       "   Pclass  Sex  Age  Fare  Embarked\n",
       "0       3    1   22     7         2\n",
       "1       1    2   38    71         0\n",
       "2       3    2   26     7         2\n",
       "3       1    2   35    53         2\n",
       "4       3    1   35     8         2"
      ]
     },
     "execution_count": 8,
     "metadata": {},
     "output_type": "execute_result"
    }
   ],
   "source": [
    "X.head()"
   ]
  },
  {
   "cell_type": "code",
   "execution_count": 9,
   "metadata": {},
   "outputs": [
    {
     "data": {
      "text/html": [
       "<div>\n",
       "<style scoped>\n",
       "    .dataframe tbody tr th:only-of-type {\n",
       "        vertical-align: middle;\n",
       "    }\n",
       "\n",
       "    .dataframe tbody tr th {\n",
       "        vertical-align: top;\n",
       "    }\n",
       "\n",
       "    .dataframe thead th {\n",
       "        text-align: right;\n",
       "    }\n",
       "</style>\n",
       "<table border=\"1\" class=\"dataframe\">\n",
       "  <thead>\n",
       "    <tr style=\"text-align: right;\">\n",
       "      <th></th>\n",
       "      <th>Pclass</th>\n",
       "      <th>Sex</th>\n",
       "      <th>Age</th>\n",
       "      <th>Fare</th>\n",
       "      <th>Embarked</th>\n",
       "    </tr>\n",
       "  </thead>\n",
       "  <tbody>\n",
       "    <tr>\n",
       "      <th>0</th>\n",
       "      <td>3</td>\n",
       "      <td>1</td>\n",
       "      <td>22</td>\n",
       "      <td>7</td>\n",
       "      <td>2</td>\n",
       "    </tr>\n",
       "    <tr>\n",
       "      <th>1</th>\n",
       "      <td>1</td>\n",
       "      <td>2</td>\n",
       "      <td>38</td>\n",
       "      <td>71</td>\n",
       "      <td>0</td>\n",
       "    </tr>\n",
       "    <tr>\n",
       "      <th>2</th>\n",
       "      <td>3</td>\n",
       "      <td>2</td>\n",
       "      <td>26</td>\n",
       "      <td>7</td>\n",
       "      <td>2</td>\n",
       "    </tr>\n",
       "    <tr>\n",
       "      <th>3</th>\n",
       "      <td>1</td>\n",
       "      <td>2</td>\n",
       "      <td>35</td>\n",
       "      <td>53</td>\n",
       "      <td>2</td>\n",
       "    </tr>\n",
       "    <tr>\n",
       "      <th>4</th>\n",
       "      <td>3</td>\n",
       "      <td>1</td>\n",
       "      <td>35</td>\n",
       "      <td>8</td>\n",
       "      <td>2</td>\n",
       "    </tr>\n",
       "  </tbody>\n",
       "</table>\n",
       "</div>"
      ],
      "text/plain": [
       "   Pclass  Sex  Age  Fare  Embarked\n",
       "0       3    1   22     7         2\n",
       "1       1    2   38    71         0\n",
       "2       3    2   26     7         2\n",
       "3       1    2   35    53         2\n",
       "4       3    1   35     8         2"
      ]
     },
     "execution_count": 9,
     "metadata": {},
     "output_type": "execute_result"
    }
   ],
   "source": [
    "\n",
    "X.to_csv(\"train_clean_data_FR.csv\")\n",
    "X.head()"
   ]
  },
  {
   "cell_type": "code",
   "execution_count": 10,
   "metadata": {},
   "outputs": [
    {
     "data": {
      "image/png": "[encoded data removed]",
      "text/plain": [
       "<matplotlib.figure.Figure at 0x1dc09c61f60>"
      ]
     },
     "metadata": {},
     "output_type": "display_data"
    }
   ],
   "source": [
    "plt.scatter(X[\"Age\"],X[\"Fare\"] ,c=y)\n",
    "plt.show()"
   ]
  },
  {
   "cell_type": "code",
   "execution_count": 11,
   "metadata": {},
   "outputs": [
    {
     "data": {
      "image/png": "[encoded data removed]",
      "text/plain": [
       "<matplotlib.figure.Figure at 0x1dc0638c8d0>"
      ]
     },
     "metadata": {},
     "output_type": "display_data"
    }
   ],
   "source": [
    "sns.set_style('whitegrid')\n",
    "sns.set(font_scale=1.2)\n",
    "plt.rcParams['figure.figsize'] = (10,6)\n",
    "df_hra_colors = pd.DataFrame({'hra': ['red', 'green', 'blue'],'hex': ['#cc0000', '#40ff00', '#0000ff']})\n",
    "#thickness = [1, 2, 3]\n",
    "#thick_sum = sum(thickness)\n",
    "#df_hra_colors['thickness'] = thickness\n",
    "ax = sns.countplot(y='Sex', data=X,\n",
    "                     palette=df_hra_colors['hex'].tolist())\n",
    "#plt.xlim(0, max(thickness) + 30)\n",
    "ax.set_xlabel(\"Count\")\n",
    "ax.set_ylabel(\"Age\")\n",
    "    #ax.set_title(\"What an Awesome Plot!\")\n",
    "#for i, p in enumerate(ax.patches):\n",
    "#    ax.annotate(\"%.2f (%.2f)%%\" % (p.get_width(), thickness[i] / thick_sum * 100.0),(p.get_x() + p.get_width(), p.get_y() + 1),xytext=(5, 10), textcoords='offset points')\n",
    "plt.show()"
   ]
  },
  {
   "cell_type": "markdown",
   "metadata": {},
   "source": [
    "Before using sophisticated models, let's see what results the worst classifier would give'"
   ]
  },
  {
   "cell_type": "code",
   "execution_count": 12,
   "metadata": {},
   "outputs": [],
   "source": [
    "from sklearn.cross_validation import train_test_split \n",
    "X_train, X_test, Y_train, Y_test = train_test_split(X, y, test_size=0.20) "
   ]
  },
  {
   "cell_type": "code",
   "execution_count": 13,
   "metadata": {},
   "outputs": [
    {
     "data": {
      "text/html": [
       "<div>\n",
       "<style scoped>\n",
       "    .dataframe tbody tr th:only-of-type {\n",
       "        vertical-align: middle;\n",
       "    }\n",
       "\n",
       "    .dataframe tbody tr th {\n",
       "        vertical-align: top;\n",
       "    }\n",
       "\n",
       "    .dataframe thead th {\n",
       "        text-align: right;\n",
       "    }\n",
       "</style>\n",
       "<table border=\"1\" class=\"dataframe\">\n",
       "  <thead>\n",
       "    <tr style=\"text-align: right;\">\n",
       "      <th></th>\n",
       "      <th>Pclass</th>\n",
       "      <th>Sex</th>\n",
       "      <th>Age</th>\n",
       "      <th>Fare</th>\n",
       "      <th>Embarked</th>\n",
       "    </tr>\n",
       "  </thead>\n",
       "  <tbody>\n",
       "    <tr>\n",
       "      <th>419</th>\n",
       "      <td>3</td>\n",
       "      <td>2</td>\n",
       "      <td>10</td>\n",
       "      <td>24</td>\n",
       "      <td>2</td>\n",
       "    </tr>\n",
       "    <tr>\n",
       "      <th>38</th>\n",
       "      <td>3</td>\n",
       "      <td>2</td>\n",
       "      <td>18</td>\n",
       "      <td>18</td>\n",
       "      <td>2</td>\n",
       "    </tr>\n",
       "    <tr>\n",
       "      <th>48</th>\n",
       "      <td>3</td>\n",
       "      <td>1</td>\n",
       "      <td>29</td>\n",
       "      <td>21</td>\n",
       "      <td>0</td>\n",
       "    </tr>\n",
       "    <tr>\n",
       "      <th>145</th>\n",
       "      <td>2</td>\n",
       "      <td>1</td>\n",
       "      <td>19</td>\n",
       "      <td>36</td>\n",
       "      <td>2</td>\n",
       "    </tr>\n",
       "    <tr>\n",
       "      <th>792</th>\n",
       "      <td>3</td>\n",
       "      <td>2</td>\n",
       "      <td>29</td>\n",
       "      <td>69</td>\n",
       "      <td>2</td>\n",
       "    </tr>\n",
       "  </tbody>\n",
       "</table>\n",
       "</div>"
      ],
      "text/plain": [
       "     Pclass  Sex  Age  Fare  Embarked\n",
       "419       3    2   10    24         2\n",
       "38        3    2   18    18         2\n",
       "48        3    1   29    21         0\n",
       "145       2    1   19    36         2\n",
       "792       3    2   29    69         2"
      ]
     },
     "execution_count": 13,
     "metadata": {},
     "output_type": "execute_result"
    }
   ],
   "source": [
    "X_train.head()"
   ]
  },
  {
   "cell_type": "code",
   "execution_count": 14,
   "metadata": {},
   "outputs": [],
   "source": [
    "from numpy import loadtxt\n",
    "from xgboost import XGBClassifier\n",
    "from sklearn.model_selection import train_test_split\n",
    "from sklearn.metrics import accuracy_score"
   ]
  },
  {
   "cell_type": "code",
   "execution_count": 15,
   "metadata": {},
   "outputs": [
    {
     "name": "stdout",
     "output_type": "stream",
     "text": [
      "0.7932960893854749\n"
     ]
    }
   ],
   "source": [
    "# fit model no training data\n",
    "score=[]\n",
    "model_XGB = XGBClassifier()\n",
    "model_XGB.fit(X_train, Y_train)\n",
    "Y_Pred_XGB=model_XGB.predict(X_test)\n",
    "print(accuracy_score(Y_test, Y_Pred_XGB))"
   ]
  },
  {
   "cell_type": "code",
   "execution_count": 16,
   "metadata": {},
   "outputs": [
    {
     "name": "stdout",
     "output_type": "stream",
     "text": [
      "0.3743016759776536\n"
     ]
    }
   ],
   "source": [
    "from sklearn import linear_model\n",
    "clf_Lnr = linear_model.SGDClassifier()\n",
    "clf_Lnr.fit(X_train, Y_train)\n",
    "Y_Pred_Lnr=clf_Lnr.predict(X_test)\n",
    "print(accuracy_score(Y_test, Y_Pred_Lnr))"
   ]
  },
  {
   "cell_type": "code",
   "execution_count": 17,
   "metadata": {},
   "outputs": [
    {
     "name": "stdout",
     "output_type": "stream",
     "text": [
      "             precision    recall  f1-score   support\n",
      "\n",
      "          0       0.80      0.64      0.71       127\n",
      "          1       0.41      0.62      0.49        52\n",
      "\n",
      "avg / total       0.69      0.63      0.65       179\n",
      "\n",
      "             precision    recall  f1-score   support\n",
      "\n",
      "          0       0.80      0.67      0.73       121\n",
      "          1       0.49      0.66      0.56        58\n",
      "\n",
      "avg / total       0.70      0.66      0.67       179\n",
      "\n",
      "             precision    recall  f1-score   support\n",
      "\n",
      "          0       0.83      0.68      0.75       123\n",
      "          1       0.50      0.70      0.58        56\n",
      "\n",
      "avg / total       0.73      0.69      0.70       179\n",
      "\n",
      "             precision    recall  f1-score   support\n",
      "\n",
      "          0       0.84      0.67      0.75       127\n",
      "          1       0.46      0.69      0.55        52\n",
      "\n",
      "avg / total       0.73      0.68      0.69       179\n",
      "\n",
      "             precision    recall  f1-score   support\n",
      "\n",
      "          0       0.85      0.68      0.76       126\n",
      "          1       0.49      0.72      0.58        53\n",
      "\n",
      "avg / total       0.74      0.69      0.71       179\n",
      "\n",
      "             precision    recall  f1-score   support\n",
      "\n",
      "          0       0.87      0.67      0.76       132\n",
      "          1       0.44      0.72      0.54        47\n",
      "\n",
      "avg / total       0.76      0.68      0.70       179\n",
      "\n",
      "             precision    recall  f1-score   support\n",
      "\n",
      "          0       0.84      0.66      0.74       129\n",
      "          1       0.44      0.68      0.53        50\n",
      "\n",
      "avg / total       0.73      0.66      0.68       179\n",
      "\n",
      "             precision    recall  f1-score   support\n",
      "\n",
      "          0       0.85      0.66      0.74       131\n",
      "          1       0.42      0.69      0.52        48\n",
      "\n",
      "avg / total       0.74      0.66      0.68       179\n",
      "\n",
      "             precision    recall  f1-score   support\n",
      "\n",
      "          0       0.86      0.65      0.74       133\n",
      "          1       0.41      0.70      0.52        46\n",
      "\n",
      "avg / total       0.75      0.66      0.69       179\n",
      "\n",
      "             precision    recall  f1-score   support\n",
      "\n",
      "          0       0.87      0.66      0.75       133\n",
      "          1       0.42      0.72      0.53        46\n",
      "\n",
      "avg / total       0.76      0.68      0.70       179\n",
      "\n",
      "             precision    recall  f1-score   support\n",
      "\n",
      "          0       0.88      0.65      0.75       137\n",
      "          1       0.38      0.71      0.50        42\n",
      "\n",
      "avg / total       0.76      0.66      0.69       179\n",
      "\n",
      "             precision    recall  f1-score   support\n",
      "\n",
      "          0       0.89      0.64      0.75       140\n",
      "          1       0.36      0.72      0.48        39\n",
      "\n",
      "avg / total       0.78      0.66      0.69       179\n",
      "\n",
      "             precision    recall  f1-score   support\n",
      "\n",
      "          0       0.90      0.63      0.74       144\n",
      "          1       0.32      0.71      0.44        35\n",
      "\n",
      "avg / total       0.79      0.65      0.68       179\n",
      "\n",
      "             precision    recall  f1-score   support\n",
      "\n",
      "          0       0.90      0.63      0.74       144\n",
      "          1       0.32      0.71      0.44        35\n",
      "\n",
      "avg / total       0.79      0.65      0.68       179\n",
      "\n"
     ]
    }
   ],
   "source": [
    "from sklearn.neighbors import KNeighborsClassifier\n",
    "from sklearn.metrics import accuracy_score,classification_report\n",
    "score=[]\n",
    "for i in range(3,30,2):\n",
    "    knn=KNeighborsClassifier(n_neighbors=i,metric='euclidean')\n",
    "    knn.fit(X_train,Y_train)\n",
    "    Y_Pred=knn.predict(X_test)\n",
    "    score.append(accuracy_score(Y_Pred,Y_test))\n",
    "    print(classification_report(Y_Pred,Y_test))"
   ]
  },
  {
   "cell_type": "code",
   "execution_count": 18,
   "metadata": {},
   "outputs": [
    {
     "data": {
      "text/plain": [
       "[0.6312849162011173,\n",
       " 0.664804469273743,\n",
       " 0.6871508379888268,\n",
       " 0.6759776536312849,\n",
       " 0.6927374301675978,\n",
       " 0.6815642458100558,\n",
       " 0.664804469273743,\n",
       " 0.664804469273743,\n",
       " 0.664804469273743,\n",
       " 0.6759776536312849,\n",
       " 0.664804469273743,\n",
       " 0.659217877094972,\n",
       " 0.6480446927374302,\n",
       " 0.6480446927374302]"
      ]
     },
     "execution_count": 18,
     "metadata": {},
     "output_type": "execute_result"
    }
   ],
   "source": [
    "score"
   ]
  },
  {
   "cell_type": "code",
   "execution_count": 19,
   "metadata": {},
   "outputs": [
    {
     "name": "stdout",
     "output_type": "stream",
     "text": [
      "0.6424581005586593\n"
     ]
    }
   ],
   "source": [
    "#SVM\n",
    "from sklearn import svm\n",
    "SV = svm.SVC()\n",
    "SV.fit(X_train, Y_train)  \n",
    "y_pred = SV.predict(X_test)\n",
    "print(accuracy_score(Y_test, y_pred))\n",
    "#printScores(y_test, y_pred, \"svm\",average=None)"
   ]
  },
  {
   "cell_type": "code",
   "execution_count": 20,
   "metadata": {},
   "outputs": [
    {
     "name": "stdout",
     "output_type": "stream",
     "text": [
      "0.5642458100558659\n"
     ]
    }
   ],
   "source": [
    "#SVM rbf\n",
    "\n",
    "from sklearn import svm\n",
    "for  C in range(1,2):\n",
    "    \n",
    "    SVr = svm.SVC(kernel='rbf', C=0.01).fit(X_train, Y_train)\n",
    "    y_pred = SVr.predict(X_test)\n",
    "    print(accuracy_score(Y_test, y_pred))\n",
    "\n"
   ]
  },
  {
   "cell_type": "code",
   "execution_count": 21,
   "metadata": {},
   "outputs": [
    {
     "name": "stdout",
     "output_type": "stream",
     "text": [
      "0.7653631284916201\n"
     ]
    }
   ],
   "source": [
    "\n",
    "from sklearn.linear_model import LogisticRegression\n",
    "LGR = LogisticRegression()\n",
    "LGR.fit(X_train,Y_train)\n",
    "y_pred = pd.Series(LGR.predict(X_test))\n",
    "print(accuracy_score(Y_test, y_pred))\n"
   ]
  },
  {
   "cell_type": "code",
   "execution_count": 22,
   "metadata": {},
   "outputs": [
    {
     "name": "stdout",
     "output_type": "stream",
     "text": [
      "[[93  8]\n",
      " [29 49]]\n",
      "             precision    recall  f1-score   support\n",
      "\n",
      "          0       0.76      0.92      0.83       101\n",
      "          1       0.86      0.63      0.73        78\n",
      "\n",
      "avg / total       0.80      0.79      0.79       179\n",
      "\n",
      "0.7932960893854749\n"
     ]
    }
   ],
   "source": [
    "from sklearn.preprocessing import StandardScaler\n",
    "from sklearn.neural_network import MLPClassifier\n",
    "from sklearn.metrics import classification_report,confusion_matrix\n",
    "scaler = StandardScaler()\n",
    "# Fit only to the training data\n",
    "scaler.fit(X_train)\n",
    "StandardScaler(copy=True, with_mean=True, with_std=True)\n",
    "# Now apply the transformations to the data:\n",
    "X_train = scaler.transform(X_train)\n",
    "X_test = scaler.transform(X_test)\n",
    "\n",
    "mlp = MLPClassifier(hidden_layer_sizes=(13,13,13),max_iter=500)\n",
    "mlp.fit(X_train,Y_train)\n",
    "predictions = mlp.predict(X_test)\n",
    "print(confusion_matrix(Y_test,predictions))\n",
    "print(classification_report(Y_test,predictions))\n",
    "print(accuracy_score(Y_test, predictions))"
   ]
  },
  {
   "cell_type": "code",
   "execution_count": 24,
   "metadata": {},
   "outputs": [
    {
     "name": "stdout",
     "output_type": "stream",
     "text": [
      "Accuracy: 0.7653631284916201\n"
     ]
    }
   ],
   "source": [
    "#for trial in range(20):\n",
    "X_train, X_test, y_train, y_test = train_test_split(X, y, test_size=0.2)\n",
    "sc = StandardScaler()\n",
    "sc.fit(X_train)\n",
    "X_train_std = sc.transform(X_train)\n",
    "X_test_std = sc.transform(X_test)\n",
    "clf = MLPClassifier(activation='relu', alpha=1e-05, batch_size=2, beta_1=0.9,\n",
    "   beta_2=0.999, early_stopping=True, epsilon=1e-05,\n",
    "   hidden_layer_sizes=(11,15,6), learning_rate='adaptive',\n",
    "   learning_rate_init=0.001, max_iter=900, momentum=0.9,\n",
    "   nesterovs_momentum=True, power_t=0.5, random_state=1, shuffle=True,\n",
    "   solver='adam', tol=0.0005, validation_fraction=0.1, verbose=False,\n",
    "   warm_start=False)\n",
    "clf.fit(X_train_std, y_train)\n",
    "y_pred = clf.predict(X_test_std)\n",
    "#print(y_pred)\n",
    "print(\"Accuracy:\", accuracy_score(y_test, y_pred))"
   ]
  },
  {
   "cell_type": "code",
   "execution_count": 25,
   "metadata": {},
   "outputs": [
    {
     "name": "stdout",
     "output_type": "stream",
     "text": [
      "Learning rate:  0.05\n",
      "Accuracy score (training): 0.629\n",
      "Learning rate:  0.1\n",
      "Accuracy score (training): 0.635\n",
      "Learning rate:  0.25\n",
      "Accuracy score (training): 0.650\n",
      "Learning rate:  0.5\n",
      "Accuracy score (training): 0.670\n",
      "Learning rate:  0.75\n",
      "Accuracy score (training): 0.666\n",
      "Learning rate:  1\n",
      "Accuracy score (training): 0.678\n"
     ]
    }
   ],
   "source": [
    "from sklearn.ensemble import RandomForestClassifier, GradientBoostingClassifier\n",
    "learning_rates = [0.05, 0.1, 0.25, 0.5, 0.75, 1]\n",
    "for learning_rate in learning_rates:\n",
    "    gb = GradientBoostingClassifier(n_estimators=20, learning_rate = learning_rate, max_features=2, max_depth = 2, random_state = 0)\n",
    "    gb.fit(X_train, Y_train)\n",
    "    print(\"Learning rate: \", learning_rate)\n",
    "    print(\"Accuracy score (training): {0:.3f}\".format(gb.score(X_train, Y_train)))\n",
    "    #print(\"Accuracy score (validation): {0:.3f}\".format(gb.score(X_validation_sub, y_train)))\n",
    "    #print()"
   ]
  },
  {
   "cell_type": "code",
   "execution_count": 41,
   "metadata": {},
   "outputs": [
    {
     "name": "stdout",
     "output_type": "stream",
     "text": [
      "Mean accuracy of Random Forest Predictions on the data was: 0.898876404494382\n"
     ]
    }
   ],
   "source": [
    "# import the machine learning library that holds the randomforest\n",
    "import sklearn.ensemble as ske\n",
    "\n",
    "# Create the random forest model and fit the model to our training data\n",
    "#y, x = dmatrices(formula_ml, data=df, return_type='dataframe')\n",
    "# RandomForestClassifier expects a 1 demensional NumPy array, so we convert\n",
    "#y = np.asarray(y).ravel()\n",
    "#instantiate and fit our model\n",
    "results_rf = ske.RandomForestClassifier(n_estimators=100).fit(X_train,Y_train)\n",
    "\n",
    "# Score the results\n",
    "score = results_rf.score(X_train,Y_train)\n",
    "print (\"Mean accuracy of Random Forest Predictions on the data was: {0}\".format(score))"
   ]
  },
  {
   "cell_type": "code",
   "execution_count": 29,
   "metadata": {},
   "outputs": [
    {
     "name": "stdout",
     "output_type": "stream",
     "text": [
      "Acc_knn: 0.55866\n",
      "Acc_LGR: 0.50838\n",
      "Acc_mlp: 0.56983\n",
      "Acc_SVM: 0.52514\n",
      "Acc_SVr 0.56425\n",
      "Acc_MLPB 0.49721\n",
      "Acc_GB 0.52514\n",
      "ACC_XGB: 0.6480446927374302\n"
     ]
    }
   ],
   "source": [
    "y_pred_knn = knn.predict(X_test)\n",
    "y_pred_SVM =  SV.predict(X_test)\n",
    "y_pred_SVr = SVr.predict(X_test)\n",
    "y_pred_mlp = mlp.predict(X_test)\n",
    "y_pred_MLPB = MLPB.predict(X_test_std)\n",
    "y_pred_LGR = pd.Series(LGR.predict(X_test))\n",
    "y_pred_gg = gb.predict(X_test)\n",
    "Y_Pred_XGB=model_XGB.predict(X_test)\n",
    "\n",
    "knn_acc=round(accuracy_score(Y_test, y_pred_knn),5)\n",
    "LGR_acc=round(accuracy_score(Y_test, y_pred_LGR),5)\n",
    "mlp_acc=round(accuracy_score(Y_test, y_pred_mlp),5)\n",
    "\n",
    "SVM_acc=round(accuracy_score(Y_test, y_pred_SVM),5)\n",
    "SVr_acc=round(accuracy_score(Y_test, y_pred_SVr),5)\n",
    "MLPB_acc=round(accuracy_score(Y_test, y_pred_MLPB),5)\n",
    "GB_acc=round(accuracy_score(Y_test, y_pred_gg),5)\n",
    "\n",
    "\n",
    "\n",
    "print(\"Acc_knn:\",knn_acc)\n",
    "print(\"Acc_LGR:\",LGR_acc)\n",
    "print(\"Acc_mlp:\",mlp_acc)\n",
    "print(\"Acc_SVM:\",SVM_acc)\n",
    "print(\"Acc_SVr\",SVr_acc)\n",
    "print(\"Acc_MLPB\",MLPB_acc)\n",
    "print(\"Acc_GB\",GB_acc)\n",
    "\n",
    "print(\"ACC_XGB:\",accuracy_score(Y_test, Y_Pred))"
   ]
  },
  {
   "cell_type": "markdown",
   "metadata": {},
   "source": [
    "# Kaggle Titanic test data validation"
   ]
  },
  {
   "cell_type": "code",
   "execution_count": 46,
   "metadata": {},
   "outputs": [
    {
     "data": {
      "text/html": [
       "<div>\n",
       "<style scoped>\n",
       "    .dataframe tbody tr th:only-of-type {\n",
       "        vertical-align: middle;\n",
       "    }\n",
       "\n",
       "    .dataframe tbody tr th {\n",
       "        vertical-align: top;\n",
       "    }\n",
       "\n",
       "    .dataframe thead th {\n",
       "        text-align: right;\n",
       "    }\n",
       "</style>\n",
       "<table border=\"1\" class=\"dataframe\">\n",
       "  <thead>\n",
       "    <tr style=\"text-align: right;\">\n",
       "      <th></th>\n",
       "      <th>Pclass</th>\n",
       "      <th>Sex</th>\n",
       "      <th>Age</th>\n",
       "      <th>Fare</th>\n",
       "      <th>Embarked</th>\n",
       "    </tr>\n",
       "  </thead>\n",
       "  <tbody>\n",
       "    <tr>\n",
       "      <th>0</th>\n",
       "      <td>3</td>\n",
       "      <td>1</td>\n",
       "      <td>34</td>\n",
       "      <td>7</td>\n",
       "      <td>1</td>\n",
       "    </tr>\n",
       "    <tr>\n",
       "      <th>1</th>\n",
       "      <td>3</td>\n",
       "      <td>2</td>\n",
       "      <td>47</td>\n",
       "      <td>7</td>\n",
       "      <td>2</td>\n",
       "    </tr>\n",
       "    <tr>\n",
       "      <th>2</th>\n",
       "      <td>2</td>\n",
       "      <td>1</td>\n",
       "      <td>62</td>\n",
       "      <td>9</td>\n",
       "      <td>1</td>\n",
       "    </tr>\n",
       "    <tr>\n",
       "      <th>3</th>\n",
       "      <td>3</td>\n",
       "      <td>1</td>\n",
       "      <td>27</td>\n",
       "      <td>8</td>\n",
       "      <td>2</td>\n",
       "    </tr>\n",
       "    <tr>\n",
       "      <th>4</th>\n",
       "      <td>3</td>\n",
       "      <td>2</td>\n",
       "      <td>22</td>\n",
       "      <td>12</td>\n",
       "      <td>2</td>\n",
       "    </tr>\n",
       "  </tbody>\n",
       "</table>\n",
       "</div>"
      ],
      "text/plain": [
       "   Pclass  Sex  Age  Fare  Embarked\n",
       "0       3    1   34     7         1\n",
       "1       3    2   47     7         2\n",
       "2       2    1   62     9         1\n",
       "3       3    1   27     8         2\n",
       "4       3    2   22    12         2"
      ]
     },
     "execution_count": 46,
     "metadata": {},
     "output_type": "execute_result"
    }
   ],
   "source": [
    "df = pd.read_csv( \"test.csv\" )\n",
    "#df[\"Survived\"].value_counts()\n",
    "lb_make = LabelEncoder()\n",
    "df[\"Embarked\"] = lb_make.fit_transform(df[\"Embarked\"].astype('str'))\n",
    "#y = df[\"Survived\"]\n",
    "X = df.drop(columns=[\"Name\",\"Ticket\",\"Cabin\",\"Parch\",\"SibSp\",\"PassengerId\"])\n",
    "Sex_replace={'Sex':{'male':1,'female':2}}\n",
    "X.replace(Sex_replace,inplace=True)\n",
    "X.isna().sum().sum()\n",
    "X = X.fillna(X.mean())\n",
    "X.Fare = X.Fare.fillna(0).astype(int)\n",
    "X.Age = X.Age.fillna(0).astype(int)\n",
    "#X = pd.DataFrame(X)\n",
    "X.to_csv(\"train_clean_data_FR.csv\")\n",
    "X.head()"
   ]
  },
  {
   "cell_type": "code",
   "execution_count": 49,
   "metadata": {},
   "outputs": [],
   "source": [
    "test=X"
   ]
  },
  {
   "cell_type": "code",
   "execution_count": 50,
   "metadata": {},
   "outputs": [
    {
     "data": {
      "text/html": [
       "<div>\n",
       "<style scoped>\n",
       "    .dataframe tbody tr th:only-of-type {\n",
       "        vertical-align: middle;\n",
       "    }\n",
       "\n",
       "    .dataframe tbody tr th {\n",
       "        vertical-align: top;\n",
       "    }\n",
       "\n",
       "    .dataframe thead th {\n",
       "        text-align: right;\n",
       "    }\n",
       "</style>\n",
       "<table border=\"1\" class=\"dataframe\">\n",
       "  <thead>\n",
       "    <tr style=\"text-align: right;\">\n",
       "      <th></th>\n",
       "      <th>Pclass</th>\n",
       "      <th>Sex</th>\n",
       "      <th>Age</th>\n",
       "      <th>Fare</th>\n",
       "      <th>Embarked</th>\n",
       "    </tr>\n",
       "  </thead>\n",
       "  <tbody>\n",
       "    <tr>\n",
       "      <th>0</th>\n",
       "      <td>3</td>\n",
       "      <td>1</td>\n",
       "      <td>34</td>\n",
       "      <td>7</td>\n",
       "      <td>1</td>\n",
       "    </tr>\n",
       "    <tr>\n",
       "      <th>1</th>\n",
       "      <td>3</td>\n",
       "      <td>2</td>\n",
       "      <td>47</td>\n",
       "      <td>7</td>\n",
       "      <td>2</td>\n",
       "    </tr>\n",
       "    <tr>\n",
       "      <th>2</th>\n",
       "      <td>2</td>\n",
       "      <td>1</td>\n",
       "      <td>62</td>\n",
       "      <td>9</td>\n",
       "      <td>1</td>\n",
       "    </tr>\n",
       "    <tr>\n",
       "      <th>3</th>\n",
       "      <td>3</td>\n",
       "      <td>1</td>\n",
       "      <td>27</td>\n",
       "      <td>8</td>\n",
       "      <td>2</td>\n",
       "    </tr>\n",
       "    <tr>\n",
       "      <th>4</th>\n",
       "      <td>3</td>\n",
       "      <td>2</td>\n",
       "      <td>22</td>\n",
       "      <td>12</td>\n",
       "      <td>2</td>\n",
       "    </tr>\n",
       "  </tbody>\n",
       "</table>\n",
       "</div>"
      ],
      "text/plain": [
       "   Pclass  Sex  Age  Fare  Embarked\n",
       "0       3    1   34     7         1\n",
       "1       3    2   47     7         2\n",
       "2       2    1   62     9         1\n",
       "3       3    1   27     8         2\n",
       "4       3    2   22    12         2"
      ]
     },
     "execution_count": 50,
     "metadata": {},
     "output_type": "execute_result"
    }
   ],
   "source": [
    "test.head()"
   ]
  },
  {
   "cell_type": "code",
   "execution_count": 51,
   "metadata": {},
   "outputs": [
    {
     "data": {
      "text/plain": [
       "(418, 5)"
      ]
     },
     "execution_count": 51,
     "metadata": {},
     "output_type": "execute_result"
    }
   ],
   "source": [
    "test.shape"
   ]
  },
  {
   "cell_type": "code",
   "execution_count": 54,
   "metadata": {},
   "outputs": [],
   "source": [
    "Pd=XT[\"PassengerId\"]"
   ]
  },
  {
   "cell_type": "code",
   "execution_count": 59,
   "metadata": {},
   "outputs": [],
   "source": [
    "#model_XGB.fit(X_train, Y_train)\n",
    "Y_Pred_XGB=model_XGB.predict(test)\n",
    "Y_Pred_Lnr = mlp.predict(test)"
   ]
  },
  {
   "cell_type": "code",
   "execution_count": 60,
   "metadata": {},
   "outputs": [],
   "source": [
    "import pandas as pd\n",
    "res = {'S.No':'Survived'}\n",
    "res1 = {'S.No1':'PassengerId'}\n",
    "for i in range(len(Y_Pred_XGB)):\n",
    "                  \n",
    "    res[i+1] = Y_Pred_XGB[i]\n",
    "    res1[i+1] = Pd[i]\n",
    "    \n",
    "    \n",
    "res_np = np.array(list(res.items()))\n",
    "res_np1 = np.array(list(res1.items()))\n",
    "df = pd.DataFrame(res_np)\n",
    "df1 = pd.DataFrame(res_np1)\n",
    "\n",
    "DM=pd.concat([df1, df], axis=1)\n",
    "DM.to_csv(\"submission7.csv\",index=False, header = False)\n"
   ]
  },
  {
   "cell_type": "code",
   "execution_count": 61,
   "metadata": {},
   "outputs": [
    {
     "name": "stdout",
     "output_type": "stream",
     "text": [
      "0    286\n",
      "1    132\n",
      "Name: Survived, dtype: int64\n"
     ]
    }
   ],
   "source": [
    "df = pd.read_csv( \"submission7.csv\" )\n",
    "print(df[\"Survived\"].value_counts())"
   ]
  },
  {
   "cell_type": "code",
   "execution_count": 62,
   "metadata": {},
   "outputs": [],
   "source": [
    "dff = df.drop(columns=[\"S.No\",\"S.No1\"])"
   ]
  },
  {
   "cell_type": "code",
   "execution_count": 63,
   "metadata": {},
   "outputs": [
    {
     "data": {
      "text/html": [
       "<div>\n",
       "<style scoped>\n",
       "    .dataframe tbody tr th:only-of-type {\n",
       "        vertical-align: middle;\n",
       "    }\n",
       "\n",
       "    .dataframe tbody tr th {\n",
       "        vertical-align: top;\n",
       "    }\n",
       "\n",
       "    .dataframe thead th {\n",
       "        text-align: right;\n",
       "    }\n",
       "</style>\n",
       "<table border=\"1\" class=\"dataframe\">\n",
       "  <thead>\n",
       "    <tr style=\"text-align: right;\">\n",
       "      <th></th>\n",
       "      <th>PassengerId</th>\n",
       "      <th>Survived</th>\n",
       "    </tr>\n",
       "  </thead>\n",
       "  <tbody>\n",
       "    <tr>\n",
       "      <th>0</th>\n",
       "      <td>892</td>\n",
       "      <td>0</td>\n",
       "    </tr>\n",
       "    <tr>\n",
       "      <th>1</th>\n",
       "      <td>893</td>\n",
       "      <td>0</td>\n",
       "    </tr>\n",
       "    <tr>\n",
       "      <th>2</th>\n",
       "      <td>894</td>\n",
       "      <td>0</td>\n",
       "    </tr>\n",
       "    <tr>\n",
       "      <th>3</th>\n",
       "      <td>895</td>\n",
       "      <td>0</td>\n",
       "    </tr>\n",
       "    <tr>\n",
       "      <th>4</th>\n",
       "      <td>896</td>\n",
       "      <td>0</td>\n",
       "    </tr>\n",
       "  </tbody>\n",
       "</table>\n",
       "</div>"
      ],
      "text/plain": [
       "   PassengerId  Survived\n",
       "0          892         0\n",
       "1          893         0\n",
       "2          894         0\n",
       "3          895         0\n",
       "4          896         0"
      ]
     },
     "execution_count": 63,
     "metadata": {},
     "output_type": "execute_result"
    }
   ],
   "source": [
    "dff.head()"
   ]
  },
  {
   "cell_type": "code",
   "execution_count": 64,
   "metadata": {},
   "outputs": [],
   "source": [
    "dff.to_csv(\"submission7.csv\",index=False)"
   ]
  },
  {
   "cell_type": "markdown",
   "metadata": {},
   "source": [
    "# Your submission scored 0.77033, which is an improvement of your previous score of 0.76555. Great job!\n"
   ]
  },
  {
   "cell_type": "code",
   "execution_count": null,
   "metadata": {},
   "outputs": [],
   "source": []
  },
  {
   "cell_type": "code",
   "execution_count": null,
   "metadata": {},
   "outputs": [],
   "source": []
  }
 ],
 "metadata": {
  "kernelspec": {
   "display_name": "Python 3",
   "language": "python",
   "name": "python3"
  },
  "language_info": {
   "codemirror_mode": {
    "name": "ipython",
    "version": 3
   },
   "file_extension": ".py",
   "mimetype": "text/x-python",
   "name": "python",
   "nbconvert_exporter": "python",
   "pygments_lexer": "ipython3",
   "version": "3.6.4"
  }
 },
 "nbformat": 4,
 "nbformat_minor": 1
}
